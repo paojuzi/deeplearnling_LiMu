{
 "cells": [
  {
   "cell_type": "code",
   "execution_count": null,
   "metadata": {},
   "outputs": [],
   "source": [
    "from mxnet import autograd , nd\n",
    "with autograd.record():\n",
    "    a = nd.ones((2,1))\n",
    "    b = nd.ones((2,1))\n",
    "    c = 2 * a + b"
   ]
  }
 ],
 "metadata": {
  "language_info": {
   "name": "python"
  },
  "orig_nbformat": 4
 },
 "nbformat": 4,
 "nbformat_minor": 2
}
